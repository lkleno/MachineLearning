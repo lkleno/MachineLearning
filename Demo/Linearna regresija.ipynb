{
 "cells": [
  {
   "cell_type": "code",
   "execution_count": null,
   "id": "d34faab0",
   "metadata": {},
   "outputs": [],
   "source": [
    "import pandas as pd\n",
    "\n",
    "df = pd.read_csv(\"KopijaKopijaPodatki_sem_v6_NH.csv\", delimiter=';')\n",
    "\n",
    "inputs = df.drop(['Odvzeta količina'],axis = 'columns')\n",
    "target = df['Odvzeta količina']\n",
    "\n",
    "#pokazi podatke"
   ]
  },
  {
   "cell_type": "code",
   "execution_count": null,
   "id": "04684370",
   "metadata": {},
   "outputs": [],
   "source": [
    "from sklearn.preprocessing import LabelEncoder\n",
    "\n",
    "le_matTip = LabelEncoder()\n",
    "le_altKos = LabelEncoder()\n",
    "le_transSkup = LabelEncoder()\n",
    "\n",
    "#pokazi podatke"
   ]
  },
  {
   "cell_type": "code",
   "execution_count": null,
   "id": "9eef07c4",
   "metadata": {},
   "outputs": [],
   "source": [
    "inputs['Material_Tip_n'] = le_matTip.fit_transform(inputs['Material_Tip'])\n",
    "inputs_n = inputs.drop(['Material_Tip', 'Altern# kosovnice', 'Transportna skupina','Količina potreb','Osnovna količina','Kosovnica', 'Količina','Obrat','Celotna količina naloga','Serialization Type','Nalog_H','Material1_H'],axis='columns')\n",
    "\n",
    "#pokazi podatke"
   ]
  },
  {
   "cell_type": "code",
   "execution_count": null,
   "id": "acd38f96",
   "metadata": {},
   "outputs": [],
   "source": [
    "from sklearn.model_selection import train_test_split\n",
    "\n",
    "x_train,x_valid,y_train,y_valid = train_test_split(inputs_n,target,random_state=85,test_size=0.2)\n",
    "\n",
    "\n",
    "from sklearn import linear_model\n",
    "\n",
    "model = linear_model.LinearRegression()\n",
    "print(\"start learning\")\n",
    "model.fit(x_train[2:],y_train[2:])\n",
    "print(\"learned\")\n",
    "print(model.score(x_valid,y_valid))\n",
    "print(model.score(x_train,y_train))\n",
    "\n",
    "#pokazi graf https://stackoverflow.com/questions/40941542/using-scikit-learn-linearregression-to-plot-a-linear-fit\n",
    "#pokazi coeff cifre\n",
    "#pokazi rezultate"
   ]
  },
  {
   "cell_type": "code",
   "execution_count": null,
   "id": "5bdfb7b3",
   "metadata": {},
   "outputs": [],
   "source": [
    "#oceni model, naredi validacijo"
   ]
  },
  {
   "cell_type": "code",
   "execution_count": null,
   "id": "10907d44",
   "metadata": {},
   "outputs": [],
   "source": [
    "#Naredi crossval in pokazi iste podatke"
   ]
  },
  {
   "cell_type": "code",
   "execution_count": null,
   "id": "399bcfea",
   "metadata": {},
   "outputs": [],
   "source": [
    "#validacija nad crossval"
   ]
  }
 ],
 "metadata": {
  "kernelspec": {
   "display_name": "Python 3 (ipykernel)",
   "language": "python",
   "name": "python3"
  },
  "language_info": {
   "codemirror_mode": {
    "name": "ipython",
    "version": 3
   },
   "file_extension": ".py",
   "mimetype": "text/x-python",
   "name": "python",
   "nbconvert_exporter": "python",
   "pygments_lexer": "ipython3",
   "version": "3.9.7"
  }
 },
 "nbformat": 4,
 "nbformat_minor": 5
}
